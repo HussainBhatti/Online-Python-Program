{
 "cells": [
  {
   "cell_type": "code",
   "execution_count": 35,
   "id": "11d95c42",
   "metadata": {},
   "outputs": [
    {
     "name": "stdout",
     "output_type": "stream",
     "text": [
      "Twinkle, twinkle, little star,\n",
      "\t How I wonder what you are! \n",
      "\t\tUp above the world so high,\n",
      "\t\tLike a diamond in the sky,\n",
      "Twinkle, twinkle, little star,\n",
      "\t How I wonder what you are\n"
     ]
    }
   ],
   "source": [
    "print(\"Twinkle, twinkle, little star,\\n\\t How I wonder what you are! \\n\\t\\tUp above the world so high,\\n\\t\\tLike a diamond in the sky,\\nTwinkle, twinkle, little star,\\n\\t How I wonder what you are\")"
   ]
  },
  {
   "cell_type": "code",
   "execution_count": 23,
   "id": "35260e17",
   "metadata": {},
   "outputs": [
    {
     "name": "stdout",
     "output_type": "stream",
     "text": [
      "3.9.7 (default, Sep 16 2021, 16:59:28) [MSC v.1916 64 bit (AMD64)]\n"
     ]
    }
   ],
   "source": [
    "print(sys.version)"
   ]
  },
  {
   "cell_type": "code",
   "execution_count": 29,
   "id": "e897a2f6",
   "metadata": {},
   "outputs": [
    {
     "name": "stdout",
     "output_type": "stream",
     "text": [
      "now = 2021-12-30 01:03:43.337546\n"
     ]
    }
   ],
   "source": [
    "from datetime import datetime\n",
    "now = datetime.now()\n",
    "print(\"now =\", now)"
   ]
  },
  {
   "cell_type": "code",
   "execution_count": 36,
   "id": "cae0ed5a",
   "metadata": {},
   "outputs": [
    {
     "name": "stdout",
     "output_type": "stream",
     "text": [
      "Enter radius of a cicle =1\n",
      "Area of a circle is 3.144\n"
     ]
    }
   ],
   "source": [
    "x = int(input(\"Enter radius of a cicle =\"))\n",
    "print(\"Area of a circle is\", (3.144 * x**2))"
   ]
  },
  {
   "cell_type": "code",
   "execution_count": 30,
   "id": "6d7f3022",
   "metadata": {},
   "outputs": [
    {
     "name": "stdout",
     "output_type": "stream",
     "text": [
      "Enter the first number = 1\n",
      "Enter the second number = 1\n",
      "2\n"
     ]
    }
   ],
   "source": [
    "x = int(input(\"Enter the first number = \"))\n",
    "y = int(input(\"Enter the second number = \") )\n",
    "z = x + y\n",
    "print (z)"
   ]
  },
  {
   "cell_type": "code",
   "execution_count": 37,
   "id": "a934e9fc",
   "metadata": {},
   "outputs": [
    {
     "name": "stdout",
     "output_type": "stream",
     "text": [
      "bhatti   hussain\n"
     ]
    }
   ],
   "source": [
    "# hussain bhatti\n",
    "x = \"hussain\"\n",
    "y = \"bhatti\"\n",
    "print(y,\" \",x)"
   ]
  },
  {
   "cell_type": "code",
   "execution_count": null,
   "id": "e7726a51",
   "metadata": {},
   "outputs": [],
   "source": []
  }
 ],
 "metadata": {
  "kernelspec": {
   "display_name": "Python 3 (ipykernel)",
   "language": "python",
   "name": "python3"
  },
  "language_info": {
   "codemirror_mode": {
    "name": "ipython",
    "version": 3
   },
   "file_extension": ".py",
   "mimetype": "text/x-python",
   "name": "python",
   "nbconvert_exporter": "python",
   "pygments_lexer": "ipython3",
   "version": "3.9.7"
  }
 },
 "nbformat": 4,
 "nbformat_minor": 5
}
